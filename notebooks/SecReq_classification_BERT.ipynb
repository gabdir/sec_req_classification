{
  "nbformat": 4,
  "nbformat_minor": 0,
  "metadata": {
    "accelerator": "GPU",
    "colab": {
      "name": "SecReq_classification_BERT.ipynb",
      "provenance": [],
      "collapsed_sections": []
    },
    "kernelspec": {
      "display_name": "Python 3",
      "name": "python3"
    },
    "language_info": {
      "name": "python"
    }
  },
  "cells": [
    {
      "cell_type": "code",
      "metadata": {
        "id": "ldZWcJHmtdd5"
      },
      "source": [
        "from IPython.display import clear_output"
      ],
      "execution_count": 1,
      "outputs": []
    },
    {
      "cell_type": "code",
      "metadata": {
        "id": "PNpKifCRtgmA"
      },
      "source": [
        "!pip install transformers -U \n",
        "!pip install data-science-types\n",
        "!pip install datasets\n",
        "clear_output()"
      ],
      "execution_count": 2,
      "outputs": []
    },
    {
      "cell_type": "code",
      "metadata": {
        "id": "1IVPhQZFrtmy"
      },
      "source": [
        "from transformers import BertTokenizer, BertTokenizerFast, DistilBertTokenizerFast, XLNetTokenizerFast\n",
        "from torch.utils.data import TensorDataset\n",
        "\n",
        "from transformers import BertForSequenceClassification, Trainer, TrainingArguments, DistilBertForSequenceClassification, XLNetForSequenceClassification\n",
        "from transformers import AdamW, get_linear_schedule_with_warmup\n",
        "\n",
        "import torch\n",
        "from torch.utils.data import DataLoader, RandomSampler, SequentialSampler\n",
        "from tqdm.notebook import tqdm\n",
        "import pandas as pd\n",
        "from dataclasses import dataclass\n",
        "\n",
        "import os\n",
        "import random\n",
        "import numpy as np\n",
        "\n",
        "from sklearn.model_selection import train_test_split, KFold"
      ],
      "execution_count": 3,
      "outputs": []
    },
    {
      "cell_type": "code",
      "metadata": {
        "id": "r6WIycGyUZ4V"
      },
      "source": [
        "torch.manual_seed(42)\n",
        "random.seed(42)\n",
        "np.random.seed(42)"
      ],
      "execution_count": 4,
      "outputs": []
    },
    {
      "cell_type": "code",
      "metadata": {
        "id": "8yowKtC467lo"
      },
      "source": [
        "@dataclass\n",
        "class Config:\n",
        "    MAX_LEN = 256\n",
        "    TRAIN_BATCH_SIZE = 3\n",
        "    VALID_BATCH_SIZE = 3\n",
        "    LR = 1e-05\n",
        "    EMBED_DIM = 128\n",
        "    EPOCHS = 10\n",
        "    CSV_FILE = \"/PURE_data_docs - Legacy only security.csv\"\n",
        "    MODEL_NAME = \"bert-base-uncased\"\n",
        "    DISTIL_BERT = \"distilbert-base-uncased\"\n",
        "    TEST_SIZE = 0.2\n",
        "    RANDOM_STATE = 42\n",
        "    EPS = 1e-8\n",
        "\n",
        "config = Config()"
      ],
      "execution_count": 5,
      "outputs": []
    },
    {
      "cell_type": "code",
      "metadata": {
        "id": "2NsGLC-i7XMR"
      },
      "source": [
        "def read_csv(filepath:str, field_req:str, field_lab:str): \n",
        "  df = pd.read_csv(filepath)\n",
        "  requirements_count = df[field_req].count()\n",
        "  labels = df[field_lab].value_counts()\n",
        "\n",
        "  return df, requirements_count, labels"
      ],
      "execution_count": 6,
      "outputs": []
    },
    {
      "cell_type": "code",
      "metadata": {
        "colab": {
          "base_uri": "https://localhost:8080/",
          "height": 513
        },
        "id": "Jn-AEGCvtvtH",
        "outputId": "66f0d068-86e4-4ddc-ba09-233820bc409b"
      },
      "source": [
        "path = os.getcwd() + config.CSV_FILE\n",
        "df, requirements_count, labels = read_csv(path, 'Requirement', 'Label')\n",
        "print(f\"Number of requirements: {requirements_count}\")\n",
        "df.head()"
      ],
      "execution_count": 7,
      "outputs": [
        {
          "output_type": "stream",
          "text": [
            "Number of requirements: 1094\n"
          ],
          "name": "stdout"
        },
        {
          "output_type": "execute_result",
          "data": {
            "text/html": [
              "<div>\n",
              "<style scoped>\n",
              "    .dataframe tbody tr th:only-of-type {\n",
              "        vertical-align: middle;\n",
              "    }\n",
              "\n",
              "    .dataframe tbody tr th {\n",
              "        vertical-align: top;\n",
              "    }\n",
              "\n",
              "    .dataframe thead th {\n",
              "        text-align: right;\n",
              "    }\n",
              "</style>\n",
              "<table border=\"1\" class=\"dataframe\">\n",
              "  <thead>\n",
              "    <tr style=\"text-align: right;\">\n",
              "      <th></th>\n",
              "      <th>Requirement</th>\n",
              "      <th>Context (Keywords)</th>\n",
              "      <th>Name of Doc</th>\n",
              "      <th>Sec/NotSec</th>\n",
              "      <th>Labeled by</th>\n",
              "      <th>Comments</th>\n",
              "      <th>Label</th>\n",
              "      <th>Labeled by.1</th>\n",
              "      <th>Comments.1</th>\n",
              "      <th>Unnamed: 9</th>\n",
              "      <th>Unnamed: 10</th>\n",
              "      <th>Unnamed: 11</th>\n",
              "      <th>Unnamed: 12</th>\n",
              "      <th>Unnamed: 13</th>\n",
              "      <th>Unnamed: 14</th>\n",
              "    </tr>\n",
              "  </thead>\n",
              "  <tbody>\n",
              "    <tr>\n",
              "      <th>0</th>\n",
              "      <td>The System must allow the user to limit access...</td>\n",
              "      <td>Access Module</td>\n",
              "      <td>cctns.pdf</td>\n",
              "      <td>1</td>\n",
              "      <td>Кирилл</td>\n",
              "      <td>NaN</td>\n",
              "      <td>Access control</td>\n",
              "      <td>Aydar</td>\n",
              "      <td>Not sure</td>\n",
              "      <td>All existing keywords:</td>\n",
              "      <td>Number of entries:</td>\n",
              "      <td>All existing labels:</td>\n",
              "      <td>Number of entries:</td>\n",
              "      <td>Accepted labels:</td>\n",
              "      <td>NaN</td>\n",
              "    </tr>\n",
              "    <tr>\n",
              "      <th>1</th>\n",
              "      <td>The system should provide for role-based contr...</td>\n",
              "      <td>Access Module</td>\n",
              "      <td>cctns.pdf</td>\n",
              "      <td>1</td>\n",
              "      <td>Кирилл</td>\n",
              "      <td>NaN</td>\n",
              "      <td>Access control</td>\n",
              "      <td>Aydar</td>\n",
              "      <td>NaN</td>\n",
              "      <td>Access Module</td>\n",
              "      <td>11</td>\n",
              "      <td>Access control</td>\n",
              "      <td>79</td>\n",
              "      <td>Confidentiality</td>\n",
              "      <td>358.0</td>\n",
              "    </tr>\n",
              "    <tr>\n",
              "      <th>2</th>\n",
              "      <td>The System must allow a user to be a member of...</td>\n",
              "      <td>Access Module</td>\n",
              "      <td>cctns.pdf</td>\n",
              "      <td>1</td>\n",
              "      <td>Кирилл</td>\n",
              "      <td>NaN</td>\n",
              "      <td>Access control</td>\n",
              "      <td>Aydar</td>\n",
              "      <td>NaN</td>\n",
              "      <td>Usability</td>\n",
              "      <td>1</td>\n",
              "      <td>Other</td>\n",
              "      <td>51</td>\n",
              "      <td>Integrity</td>\n",
              "      <td>254.0</td>\n",
              "    </tr>\n",
              "    <tr>\n",
              "      <th>3</th>\n",
              "      <td>The System must allow only admin-users to set ...</td>\n",
              "      <td>Access Module</td>\n",
              "      <td>cctns.pdf</td>\n",
              "      <td>1</td>\n",
              "      <td>Кирилл</td>\n",
              "      <td>NaN</td>\n",
              "      <td>Access control</td>\n",
              "      <td>Aydar</td>\n",
              "      <td>NaN</td>\n",
              "      <td>Security Requirements</td>\n",
              "      <td>51</td>\n",
              "      <td>Confidentiality</td>\n",
              "      <td>358</td>\n",
              "      <td>Availability</td>\n",
              "      <td>45.0</td>\n",
              "    </tr>\n",
              "    <tr>\n",
              "      <th>4</th>\n",
              "      <td>The System should allow a user to stipulate wh...</td>\n",
              "      <td>Access Module</td>\n",
              "      <td>cctns.pdf</td>\n",
              "      <td>1</td>\n",
              "      <td>Кирилл</td>\n",
              "      <td>NaN</td>\n",
              "      <td>Access control</td>\n",
              "      <td>Aydar</td>\n",
              "      <td>NaN</td>\n",
              "      <td>Functional requirements</td>\n",
              "      <td>55</td>\n",
              "      <td>Accountability</td>\n",
              "      <td>140</td>\n",
              "      <td>Accountability</td>\n",
              "      <td>140.0</td>\n",
              "    </tr>\n",
              "  </tbody>\n",
              "</table>\n",
              "</div>"
            ],
            "text/plain": [
              "                                         Requirement  ... Unnamed: 14\n",
              "0  The System must allow the user to limit access...  ...         NaN\n",
              "1  The system should provide for role-based contr...  ...       358.0\n",
              "2  The System must allow a user to be a member of...  ...       254.0\n",
              "3  The System must allow only admin-users to set ...  ...        45.0\n",
              "4  The System should allow a user to stipulate wh...  ...       140.0\n",
              "\n",
              "[5 rows x 15 columns]"
            ]
          },
          "metadata": {
            "tags": []
          },
          "execution_count": 7
        }
      ]
    },
    {
      "cell_type": "code",
      "metadata": {
        "colab": {
          "base_uri": "https://localhost:8080/"
        },
        "id": "fP_NVwEEwqyh",
        "outputId": "86e82109-538e-40f2-c7af-ff37ce4188f7"
      },
      "source": [
        "labels"
      ],
      "execution_count": 8,
      "outputs": [
        {
          "output_type": "execute_result",
          "data": {
            "text/plain": [
              "Confidentiality                             358\n",
              "Integrity                                   254\n",
              "Accountability                              140\n",
              "Operational                                 132\n",
              "Access control                               79\n",
              "Other                                        51\n",
              "Availability                                 45\n",
              "Operational?                                  7\n",
              "I don't know                                  7\n",
              "Functional                                    5\n",
              "Confidentiality?                              4\n",
              "Operational/Accountability                    3\n",
              "continue                                      2\n",
              "Availability?                                 2\n",
              "Integrity?                                    2\n",
              "Confidentiality/Integrity/Access control      1\n",
              "Access control?                               1\n",
              "Availability/Confidentiality/Integrity        1\n",
              "Name: Label, dtype: int64"
            ]
          },
          "metadata": {
            "tags": []
          },
          "execution_count": 8
        }
      ]
    },
    {
      "cell_type": "code",
      "metadata": {
        "id": "iwyRpB7k8Oaf"
      },
      "source": [
        "def prepare_requirements_and_plot(df:pd.DataFrame, min_len:int, field_req:str, field_lab:str): \n",
        "  prepared_df = df.copy(deep=True)\n",
        "  df_proceed = prepared_df[prepared_df.groupby(field_lab)[field_lab]\n",
        "                   .transform('count')>min_len]\n",
        "\n",
        "  df_proceed = df_proceed[df.Label != 'Other']\n",
        "  requirements_count = df_proceed[field_req].count()\n",
        "  print(f\"Requirements count: {requirements_count}\")\n",
        "\n",
        "  df_proceed.Label.value_counts().sort_index(ascending=False).plot(kind='barh')\n",
        "\n",
        "  requirements_only = df_proceed[['Requirement', 'Label']]\n",
        "\n",
        "  return df_proceed, requirements_count, requirements_only"
      ],
      "execution_count": 9,
      "outputs": []
    },
    {
      "cell_type": "code",
      "metadata": {
        "colab": {
          "base_uri": "https://localhost:8080/",
          "height": 336
        },
        "id": "qmxqKo1p9G6m",
        "outputId": "19d150ef-0682-49f0-946e-8ac5071ec11e"
      },
      "source": [
        "df_proceed, requirements_count, requirements_only = prepare_requirements_and_plot(df, 7, 'Requirement', 'Label')"
      ],
      "execution_count": 10,
      "outputs": [
        {
          "output_type": "stream",
          "text": [
            "Requirements count: 1008\n"
          ],
          "name": "stdout"
        },
        {
          "output_type": "stream",
          "text": [
            "/usr/local/lib/python3.7/dist-packages/ipykernel_launcher.py:6: UserWarning: Boolean Series key will be reindexed to match DataFrame index.\n",
            "  \n"
          ],
          "name": "stderr"
        },
        {
          "output_type": "display_data",
          "data": {
            "image/png": "[encoded data removed]",
            "text/plain": [
              "<Figure size 432x288 with 1 Axes>"
            ]
          },
          "metadata": {
            "tags": [],
            "needs_background": "light"
          }
        }
      ]
    },
    {
      "cell_type": "code",
      "metadata": {
        "colab": {
          "base_uri": "https://localhost:8080/",
          "height": 204
        },
        "id": "RzyK-w8xo4ko",
        "outputId": "c7be0e6c-800f-4b34-f7cd-8c8666d74768"
      },
      "source": [
        "requirements_only.head()"
      ],
      "execution_count": 11,
      "outputs": [
        {
          "output_type": "execute_result",
          "data": {
            "text/html": [
              "<div>\n",
              "<style scoped>\n",
              "    .dataframe tbody tr th:only-of-type {\n",
              "        vertical-align: middle;\n",
              "    }\n",
              "\n",
              "    .dataframe tbody tr th {\n",
              "        vertical-align: top;\n",
              "    }\n",
              "\n",
              "    .dataframe thead th {\n",
              "        text-align: right;\n",
              "    }\n",
              "</style>\n",
              "<table border=\"1\" class=\"dataframe\">\n",
              "  <thead>\n",
              "    <tr style=\"text-align: right;\">\n",
              "      <th></th>\n",
              "      <th>Requirement</th>\n",
              "      <th>Label</th>\n",
              "    </tr>\n",
              "  </thead>\n",
              "  <tbody>\n",
              "    <tr>\n",
              "      <th>0</th>\n",
              "      <td>The System must allow the user to limit access...</td>\n",
              "      <td>Access control</td>\n",
              "    </tr>\n",
              "    <tr>\n",
              "      <th>1</th>\n",
              "      <td>The system should provide for role-based contr...</td>\n",
              "      <td>Access control</td>\n",
              "    </tr>\n",
              "    <tr>\n",
              "      <th>2</th>\n",
              "      <td>The System must allow a user to be a member of...</td>\n",
              "      <td>Access control</td>\n",
              "    </tr>\n",
              "    <tr>\n",
              "      <th>3</th>\n",
              "      <td>The System must allow only admin-users to set ...</td>\n",
              "      <td>Access control</td>\n",
              "    </tr>\n",
              "    <tr>\n",
              "      <th>4</th>\n",
              "      <td>The System should allow a user to stipulate wh...</td>\n",
              "      <td>Access control</td>\n",
              "    </tr>\n",
              "  </tbody>\n",
              "</table>\n",
              "</div>"
            ],
            "text/plain": [
              "                                         Requirement           Label\n",
              "0  The System must allow the user to limit access...  Access control\n",
              "1  The system should provide for role-based contr...  Access control\n",
              "2  The System must allow a user to be a member of...  Access control\n",
              "3  The System must allow only admin-users to set ...  Access control\n",
              "4  The System should allow a user to stipulate wh...  Access control"
            ]
          },
          "metadata": {
            "tags": []
          },
          "execution_count": 11
        }
      ]
    },
    {
      "cell_type": "code",
      "metadata": {
        "id": "sKxwxxvq9ryW"
      },
      "source": [
        "def label_requirements_with_idx(requirements: pd.DataFrame, field:str): \n",
        "  labels = requirements[field].unique()\n",
        "  label_to_idx = dict()\n",
        "\n",
        "  for idx, label in enumerate(labels): \n",
        "    label_to_idx[f\"{label}\"] = idx\n",
        "\n",
        "  requirements_only = requirements.copy(deep=True)\n",
        "  requirements_only[\"Index\"] = requirements_only.Label.apply(lambda x: label_to_idx[x])\n",
        "\n",
        "  return requirements_only, label_to_idx"
      ],
      "execution_count": 12,
      "outputs": []
    },
    {
      "cell_type": "code",
      "metadata": {
        "colab": {
          "base_uri": "https://localhost:8080/",
          "height": 204
        },
        "id": "BgC5vk8vrzZS",
        "outputId": "1f0e409d-8d37-45ac-e384-06ce1439a207"
      },
      "source": [
        "requirements_only, label_to_idx = label_requirements_with_idx(requirements_only, 'Label')\n",
        "requirements_only.head()"
      ],
      "execution_count": 13,
      "outputs": [
        {
          "output_type": "execute_result",
          "data": {
            "text/html": [
              "<div>\n",
              "<style scoped>\n",
              "    .dataframe tbody tr th:only-of-type {\n",
              "        vertical-align: middle;\n",
              "    }\n",
              "\n",
              "    .dataframe tbody tr th {\n",
              "        vertical-align: top;\n",
              "    }\n",
              "\n",
              "    .dataframe thead th {\n",
              "        text-align: right;\n",
              "    }\n",
              "</style>\n",
              "<table border=\"1\" class=\"dataframe\">\n",
              "  <thead>\n",
              "    <tr style=\"text-align: right;\">\n",
              "      <th></th>\n",
              "      <th>Requirement</th>\n",
              "      <th>Label</th>\n",
              "      <th>Index</th>\n",
              "    </tr>\n",
              "  </thead>\n",
              "  <tbody>\n",
              "    <tr>\n",
              "      <th>0</th>\n",
              "      <td>The System must allow the user to limit access...</td>\n",
              "      <td>Access control</td>\n",
              "      <td>0</td>\n",
              "    </tr>\n",
              "    <tr>\n",
              "      <th>1</th>\n",
              "      <td>The system should provide for role-based contr...</td>\n",
              "      <td>Access control</td>\n",
              "      <td>0</td>\n",
              "    </tr>\n",
              "    <tr>\n",
              "      <th>2</th>\n",
              "      <td>The System must allow a user to be a member of...</td>\n",
              "      <td>Access control</td>\n",
              "      <td>0</td>\n",
              "    </tr>\n",
              "    <tr>\n",
              "      <th>3</th>\n",
              "      <td>The System must allow only admin-users to set ...</td>\n",
              "      <td>Access control</td>\n",
              "      <td>0</td>\n",
              "    </tr>\n",
              "    <tr>\n",
              "      <th>4</th>\n",
              "      <td>The System should allow a user to stipulate wh...</td>\n",
              "      <td>Access control</td>\n",
              "      <td>0</td>\n",
              "    </tr>\n",
              "  </tbody>\n",
              "</table>\n",
              "</div>"
            ],
            "text/plain": [
              "                                         Requirement           Label  Index\n",
              "0  The System must allow the user to limit access...  Access control      0\n",
              "1  The system should provide for role-based contr...  Access control      0\n",
              "2  The System must allow a user to be a member of...  Access control      0\n",
              "3  The System must allow only admin-users to set ...  Access control      0\n",
              "4  The System should allow a user to stipulate wh...  Access control      0"
            ]
          },
          "metadata": {
            "tags": []
          },
          "execution_count": 13
        }
      ]
    },
    {
      "cell_type": "code",
      "metadata": {
        "colab": {
          "base_uri": "https://localhost:8080/"
        },
        "id": "TDs_lSlcXEb2",
        "outputId": "ef3aa472-f9c1-4e20-c17c-7dc2fe6dae75"
      },
      "source": [
        "label_to_idx"
      ],
      "execution_count": 14,
      "outputs": [
        {
          "output_type": "execute_result",
          "data": {
            "text/plain": [
              "{'Access control': 0,\n",
              " 'Accountability': 2,\n",
              " 'Availability': 4,\n",
              " 'Confidentiality': 1,\n",
              " 'Integrity': 3,\n",
              " 'Operational': 5}"
            ]
          },
          "metadata": {
            "tags": []
          },
          "execution_count": 14
        }
      ]
    },
    {
      "cell_type": "markdown",
      "metadata": {
        "id": "q6wnS01F8Dan"
      },
      "source": [
        "# Trainer"
      ]
    },
    {
      "cell_type": "code",
      "metadata": {
        "id": "XjNpYYr4BbeY"
      },
      "source": [
        "tokenizer = DistilBertTokenizerFast.from_pretrained('distilbert-base-uncased')"
      ],
      "execution_count": 24,
      "outputs": []
    },
    {
      "cell_type": "code",
      "metadata": {
        "colab": {
          "base_uri": "https://localhost:8080/",
          "height": 204
        },
        "id": "aWfHneQOSL06",
        "outputId": "b674d210-7ab9-4608-fe11-6488e7d878cd"
      },
      "source": [
        "requirements_only.head()"
      ],
      "execution_count": 25,
      "outputs": [
        {
          "output_type": "execute_result",
          "data": {
            "text/html": [
              "<div>\n",
              "<style scoped>\n",
              "    .dataframe tbody tr th:only-of-type {\n",
              "        vertical-align: middle;\n",
              "    }\n",
              "\n",
              "    .dataframe tbody tr th {\n",
              "        vertical-align: top;\n",
              "    }\n",
              "\n",
              "    .dataframe thead th {\n",
              "        text-align: right;\n",
              "    }\n",
              "</style>\n",
              "<table border=\"1\" class=\"dataframe\">\n",
              "  <thead>\n",
              "    <tr style=\"text-align: right;\">\n",
              "      <th></th>\n",
              "      <th>Requirement</th>\n",
              "      <th>Label</th>\n",
              "      <th>Index</th>\n",
              "    </tr>\n",
              "  </thead>\n",
              "  <tbody>\n",
              "    <tr>\n",
              "      <th>0</th>\n",
              "      <td>The System must allow the user to limit access...</td>\n",
              "      <td>Access control</td>\n",
              "      <td>0</td>\n",
              "    </tr>\n",
              "    <tr>\n",
              "      <th>1</th>\n",
              "      <td>The system should provide for role-based contr...</td>\n",
              "      <td>Access control</td>\n",
              "      <td>0</td>\n",
              "    </tr>\n",
              "    <tr>\n",
              "      <th>2</th>\n",
              "      <td>The System must allow a user to be a member of...</td>\n",
              "      <td>Access control</td>\n",
              "      <td>0</td>\n",
              "    </tr>\n",
              "    <tr>\n",
              "      <th>3</th>\n",
              "      <td>The System must allow only admin-users to set ...</td>\n",
              "      <td>Access control</td>\n",
              "      <td>0</td>\n",
              "    </tr>\n",
              "    <tr>\n",
              "      <th>4</th>\n",
              "      <td>The System should allow a user to stipulate wh...</td>\n",
              "      <td>Access control</td>\n",
              "      <td>0</td>\n",
              "    </tr>\n",
              "  </tbody>\n",
              "</table>\n",
              "</div>"
            ],
            "text/plain": [
              "                                         Requirement           Label  Index\n",
              "0  The System must allow the user to limit access...  Access control      0\n",
              "1  The system should provide for role-based contr...  Access control      0\n",
              "2  The System must allow a user to be a member of...  Access control      0\n",
              "3  The System must allow only admin-users to set ...  Access control      0\n",
              "4  The System should allow a user to stipulate wh...  Access control      0"
            ]
          },
          "metadata": {
            "tags": []
          },
          "execution_count": 25
        }
      ]
    },
    {
      "cell_type": "code",
      "metadata": {
        "colab": {
          "base_uri": "https://localhost:8080/"
        },
        "id": "SY-HwOq58GlA",
        "outputId": "34787c93-7fde-4f16-ce75-e26d18bd904e"
      },
      "source": [
        "class PUREDataset(torch.utils.data.Dataset):\n",
        "    def __init__(self, requirements, encoder):\n",
        "        self.requirements = requirements\n",
        "        self.encoder = encoder\n",
        "        self.encodings = tokenizer(list(self.requirements['Requirement'].values), truncation=True, padding=True)\n",
        "        self.labels = self.requirements.Index.values\n",
        "\n",
        "    def __getitem__(self, idx):\n",
        "        item = {key: torch.tensor(val[idx]).to(device) for key, val in self.encodings.items()}\n",
        "        item['labels'] = torch.tensor(self.labels[idx]).to(device)\n",
        "        return item\n",
        "\n",
        "    def __len__(self):\n",
        "        return len(self.labels)\n",
        "\n",
        "train, test = train_test_split(requirements_only, test_size=0.1, random_state=42)\n",
        "print(len(requirements_only['Requirement'].values))\n",
        "\n",
        "train_dataset = PUREDataset(train, tokenizer)\n",
        "test_dataset = PUREDataset(test, tokenizer)\n",
        "print(len(train_dataset), len(test_dataset))"
      ],
      "execution_count": 26,
      "outputs": [
        {
          "output_type": "stream",
          "text": [
            "1008\n",
            "907 101\n"
          ],
          "name": "stdout"
        }
      ]
    },
    {
      "cell_type": "code",
      "metadata": {
        "id": "b8Iq23PUAalY"
      },
      "source": [
        "from sklearn.metrics import accuracy_score, precision_recall_fscore_support\n",
        "from transformers import TrainingArguments\n",
        "\n",
        "\n",
        "def compute_metrics(pred):\n",
        "    labels = pred.label_ids\n",
        "    preds = pred.predictions.argmax(-1)\n",
        "    precision, recall, f1, _ = precision_recall_fscore_support(labels, preds, average='macro')\n",
        "    acc = accuracy_score(labels, preds)\n",
        "    return {\n",
        "        'accuracy': acc,\n",
        "        'precision': precision,\n",
        "        'recall': recall,\n",
        "        'f1': f1\n",
        "    }\n",
        "\n",
        "training_args = TrainingArguments(\n",
        "    save_strategy=\"no\",\n",
        "    output_dir='./results',          # output directory\n",
        "    num_train_epochs=20,              # total number of training epochs\n",
        "    per_device_train_batch_size=16,  # batch size per device during training\n",
        "    per_device_eval_batch_size=64,   # batch size for evaluation\n",
        "    warmup_steps=500,                # number of warmup steps for learning rate scheduler\n",
        "    weight_decay=0.01,               # strength of weight decay\n",
        "    logging_dir='./logs',            # directory for storing logs\n",
        "    logging_steps=10,\n",
        "    load_best_model_at_end=True,\n",
        "    metric_for_best_model='f1',\n",
        "    evaluation_strategy='epoch',\n",
        "    eval_steps=300,\n",
        "    logging_strategy=\"no\"\n",
        ")"
      ],
      "execution_count": 27,
      "outputs": []
    },
    {
      "cell_type": "code",
      "metadata": {
        "id": "q91UqpnwRw8q"
      },
      "source": [
        "device = torch.device('cuda' if torch.cuda.is_available() else 'cpu')"
      ],
      "execution_count": 28,
      "outputs": []
    },
    {
      "cell_type": "code",
      "metadata": {
        "id": "FUsRDnuQ7alU"
      },
      "source": [
        "torch.manual_seed(42)\n",
        "random.seed(42)\n",
        "np.random.seed(42)"
      ],
      "execution_count": 29,
      "outputs": []
    },
    {
      "cell_type": "code",
      "metadata": {
        "colab": {
          "base_uri": "https://localhost:8080/",
          "height": 953
        },
        "id": "ao_HCJu_Au2P",
        "outputId": "94e7aa6c-2c5a-4a8a-af6d-0c295577f44d"
      },
      "source": [
        "model = DistilBertForSequenceClassification.from_pretrained('distilbert-base-uncased',\n",
        "                                                      num_labels=len(label_to_idx))\n",
        "trainer = Trainer(\n",
        "    model=model,                         # the instantiated 🤗 Transformers model to be trained\n",
        "    args=training_args,                  # training arguments, defined above\n",
        "    train_dataset=train_dataset,         # training dataset\n",
        "    eval_dataset=test_dataset,             # evaluation dataset\n",
        "    tokenizer=tokenizer,\n",
        "    compute_metrics=compute_metrics\n",
        ")\n",
        "\n",
        "trainer.train()"
      ],
      "execution_count": 30,
      "outputs": [
        {
          "output_type": "stream",
          "text": [
            "Some weights of the model checkpoint at distilbert-base-uncased were not used when initializing DistilBertForSequenceClassification: ['vocab_layer_norm.weight', 'vocab_transform.bias', 'vocab_projector.bias', 'vocab_transform.weight', 'vocab_layer_norm.bias', 'vocab_projector.weight']\n",
            "- This IS expected if you are initializing DistilBertForSequenceClassification from the checkpoint of a model trained on another task or with another architecture (e.g. initializing a BertForSequenceClassification model from a BertForPreTraining model).\n",
            "- This IS NOT expected if you are initializing DistilBertForSequenceClassification from the checkpoint of a model that you expect to be exactly identical (initializing a BertForSequenceClassification model from a BertForSequenceClassification model).\n",
            "Some weights of DistilBertForSequenceClassification were not initialized from the model checkpoint at distilbert-base-uncased and are newly initialized: ['pre_classifier.weight', 'classifier.bias', 'pre_classifier.bias', 'classifier.weight']\n",
            "You should probably TRAIN this model on a down-stream task to be able to use it for predictions and inference.\n"
          ],
          "name": "stderr"
        },
        {
          "output_type": "display_data",
          "data": {
            "text/html": [
              "\n",
              "    <div>\n",
              "      \n",
              "      <progress value='1140' max='1140' style='width:300px; height:20px; vertical-align: middle;'></progress>\n",
              "      [1140/1140 10:30, Epoch 20/20]\n",
              "    </div>\n",
              "    <table border=\"1\" class=\"dataframe\">\n",
              "  <thead>\n",
              "    <tr style=\"text-align: left;\">\n",
              "      <th>Epoch</th>\n",
              "      <th>Training Loss</th>\n",
              "      <th>Validation Loss</th>\n",
              "      <th>Accuracy</th>\n",
              "      <th>Precision</th>\n",
              "      <th>Recall</th>\n",
              "      <th>F1</th>\n",
              "    </tr>\n",
              "  </thead>\n",
              "  <tbody>\n",
              "    <tr>\n",
              "      <td>1</td>\n",
              "      <td>No log</td>\n",
              "      <td>1.578927</td>\n",
              "      <td>0.445545</td>\n",
              "      <td>0.074257</td>\n",
              "      <td>0.166667</td>\n",
              "      <td>0.102740</td>\n",
              "    </tr>\n",
              "    <tr>\n",
              "      <td>2</td>\n",
              "      <td>No log</td>\n",
              "      <td>1.307042</td>\n",
              "      <td>0.534653</td>\n",
              "      <td>0.554640</td>\n",
              "      <td>0.313950</td>\n",
              "      <td>0.315232</td>\n",
              "    </tr>\n",
              "    <tr>\n",
              "      <td>3</td>\n",
              "      <td>No log</td>\n",
              "      <td>1.064296</td>\n",
              "      <td>0.633663</td>\n",
              "      <td>0.425234</td>\n",
              "      <td>0.481176</td>\n",
              "      <td>0.431816</td>\n",
              "    </tr>\n",
              "    <tr>\n",
              "      <td>4</td>\n",
              "      <td>No log</td>\n",
              "      <td>0.907120</td>\n",
              "      <td>0.712871</td>\n",
              "      <td>0.481206</td>\n",
              "      <td>0.540578</td>\n",
              "      <td>0.508983</td>\n",
              "    </tr>\n",
              "    <tr>\n",
              "      <td>5</td>\n",
              "      <td>No log</td>\n",
              "      <td>1.023923</td>\n",
              "      <td>0.653465</td>\n",
              "      <td>0.733371</td>\n",
              "      <td>0.654538</td>\n",
              "      <td>0.638134</td>\n",
              "    </tr>\n",
              "    <tr>\n",
              "      <td>6</td>\n",
              "      <td>No log</td>\n",
              "      <td>0.891965</td>\n",
              "      <td>0.673267</td>\n",
              "      <td>0.770036</td>\n",
              "      <td>0.615293</td>\n",
              "      <td>0.626366</td>\n",
              "    </tr>\n",
              "    <tr>\n",
              "      <td>7</td>\n",
              "      <td>No log</td>\n",
              "      <td>1.069360</td>\n",
              "      <td>0.623762</td>\n",
              "      <td>0.684714</td>\n",
              "      <td>0.677686</td>\n",
              "      <td>0.646010</td>\n",
              "    </tr>\n",
              "    <tr>\n",
              "      <td>8</td>\n",
              "      <td>No log</td>\n",
              "      <td>1.180740</td>\n",
              "      <td>0.673267</td>\n",
              "      <td>0.731790</td>\n",
              "      <td>0.674410</td>\n",
              "      <td>0.652191</td>\n",
              "    </tr>\n",
              "    <tr>\n",
              "      <td>9</td>\n",
              "      <td>No log</td>\n",
              "      <td>0.969965</td>\n",
              "      <td>0.732673</td>\n",
              "      <td>0.741405</td>\n",
              "      <td>0.722273</td>\n",
              "      <td>0.697079</td>\n",
              "    </tr>\n",
              "    <tr>\n",
              "      <td>10</td>\n",
              "      <td>No log</td>\n",
              "      <td>1.358951</td>\n",
              "      <td>0.732673</td>\n",
              "      <td>0.682842</td>\n",
              "      <td>0.812230</td>\n",
              "      <td>0.720669</td>\n",
              "    </tr>\n",
              "    <tr>\n",
              "      <td>11</td>\n",
              "      <td>No log</td>\n",
              "      <td>1.530774</td>\n",
              "      <td>0.693069</td>\n",
              "      <td>0.637372</td>\n",
              "      <td>0.684524</td>\n",
              "      <td>0.642025</td>\n",
              "    </tr>\n",
              "    <tr>\n",
              "      <td>12</td>\n",
              "      <td>No log</td>\n",
              "      <td>1.426567</td>\n",
              "      <td>0.722772</td>\n",
              "      <td>0.747222</td>\n",
              "      <td>0.721418</td>\n",
              "      <td>0.711928</td>\n",
              "    </tr>\n",
              "    <tr>\n",
              "      <td>13</td>\n",
              "      <td>No log</td>\n",
              "      <td>1.765742</td>\n",
              "      <td>0.722772</td>\n",
              "      <td>0.728112</td>\n",
              "      <td>0.701048</td>\n",
              "      <td>0.684464</td>\n",
              "    </tr>\n",
              "    <tr>\n",
              "      <td>14</td>\n",
              "      <td>No log</td>\n",
              "      <td>1.663680</td>\n",
              "      <td>0.722772</td>\n",
              "      <td>0.714779</td>\n",
              "      <td>0.709310</td>\n",
              "      <td>0.684749</td>\n",
              "    </tr>\n",
              "    <tr>\n",
              "      <td>15</td>\n",
              "      <td>No log</td>\n",
              "      <td>1.628312</td>\n",
              "      <td>0.742574</td>\n",
              "      <td>0.726994</td>\n",
              "      <td>0.714011</td>\n",
              "      <td>0.693472</td>\n",
              "    </tr>\n",
              "    <tr>\n",
              "      <td>16</td>\n",
              "      <td>No log</td>\n",
              "      <td>1.583998</td>\n",
              "      <td>0.762376</td>\n",
              "      <td>0.752157</td>\n",
              "      <td>0.726832</td>\n",
              "      <td>0.720016</td>\n",
              "    </tr>\n",
              "    <tr>\n",
              "      <td>17</td>\n",
              "      <td>No log</td>\n",
              "      <td>1.592940</td>\n",
              "      <td>0.762376</td>\n",
              "      <td>0.762085</td>\n",
              "      <td>0.738940</td>\n",
              "      <td>0.728645</td>\n",
              "    </tr>\n",
              "    <tr>\n",
              "      <td>18</td>\n",
              "      <td>No log</td>\n",
              "      <td>1.629268</td>\n",
              "      <td>0.742574</td>\n",
              "      <td>0.726994</td>\n",
              "      <td>0.714011</td>\n",
              "      <td>0.693472</td>\n",
              "    </tr>\n",
              "    <tr>\n",
              "      <td>19</td>\n",
              "      <td>No log</td>\n",
              "      <td>1.622069</td>\n",
              "      <td>0.752475</td>\n",
              "      <td>0.734533</td>\n",
              "      <td>0.720421</td>\n",
              "      <td>0.702478</td>\n",
              "    </tr>\n",
              "    <tr>\n",
              "      <td>20</td>\n",
              "      <td>No log</td>\n",
              "      <td>1.615934</td>\n",
              "      <td>0.752475</td>\n",
              "      <td>0.737363</td>\n",
              "      <td>0.720421</td>\n",
              "      <td>0.705441</td>\n",
              "    </tr>\n",
              "  </tbody>\n",
              "</table><p>"
            ],
            "text/plain": [
              "<IPython.core.display.HTML object>"
            ]
          },
          "metadata": {
            "tags": []
          }
        },
        {
          "output_type": "stream",
          "text": [
            "/usr/local/lib/python3.7/dist-packages/sklearn/metrics/_classification.py:1272: UndefinedMetricWarning: Precision and F-score are ill-defined and being set to 0.0 in labels with no predicted samples. Use `zero_division` parameter to control this behavior.\n",
            "  _warn_prf(average, modifier, msg_start, len(result))\n",
            "/usr/local/lib/python3.7/dist-packages/sklearn/metrics/_classification.py:1272: UndefinedMetricWarning: Precision and F-score are ill-defined and being set to 0.0 in labels with no predicted samples. Use `zero_division` parameter to control this behavior.\n",
            "  _warn_prf(average, modifier, msg_start, len(result))\n",
            "/usr/local/lib/python3.7/dist-packages/sklearn/metrics/_classification.py:1272: UndefinedMetricWarning: Precision and F-score are ill-defined and being set to 0.0 in labels with no predicted samples. Use `zero_division` parameter to control this behavior.\n",
            "  _warn_prf(average, modifier, msg_start, len(result))\n",
            "/usr/local/lib/python3.7/dist-packages/sklearn/metrics/_classification.py:1272: UndefinedMetricWarning: Precision and F-score are ill-defined and being set to 0.0 in labels with no predicted samples. Use `zero_division` parameter to control this behavior.\n",
            "  _warn_prf(average, modifier, msg_start, len(result))\n"
          ],
          "name": "stderr"
        },
        {
          "output_type": "execute_result",
          "data": {
            "text/plain": [
              "TrainOutput(global_step=1140, training_loss=0.3935257225705866, metrics={'train_runtime': 631.3121, 'train_samples_per_second': 1.806, 'total_flos': 0, 'epoch': 20.0, 'init_mem_cpu_alloc_delta': 0, 'init_mem_gpu_alloc_delta': 268965376, 'init_mem_cpu_peaked_delta': 0, 'init_mem_gpu_peaked_delta': 0, 'train_mem_cpu_alloc_delta': -343617536, 'train_mem_gpu_alloc_delta': 813478400, 'train_mem_cpu_peaked_delta': 347824128, 'train_mem_gpu_peaked_delta': 1137910784})"
            ]
          },
          "metadata": {
            "tags": []
          },
          "execution_count": 30
        }
      ]
    },
    {
      "cell_type": "code",
      "metadata": {
        "id": "JmNAow9RZ5E7"
      },
      "source": [
        "!rm -rf logs/\n",
        "!rm -rf results/\n",
        "!rm -rf data_volume/"
      ],
      "execution_count": 34,
      "outputs": []
    },
    {
      "cell_type": "code",
      "metadata": {
        "colab": {
          "base_uri": "https://localhost:8080/",
          "height": 623
        },
        "id": "x6K1GZoAVEWC",
        "outputId": "06b045ab-ba97-4e11-9579-6e1e29b200c0"
      },
      "source": [
        "from datasets import load_metric\n",
        "from sklearn.metrics import confusion_matrix\n",
        "metric = load_metric('f1')\n",
        "\n",
        "model.eval()\n",
        "y_true, y_pred = [], []\n",
        "\n",
        "for i in range(len(test_dataset)):\n",
        "    inputs = test_dataset[i]\n",
        "    # print(item)\n",
        "\n",
        "    a, b, c = inputs['input_ids'], inputs['attention_mask'], inputs['labels']\n",
        "    a = a.unsqueeze(0)\n",
        "    b = b.unsqueeze(0)\n",
        "    c = c.unsqueeze(0)\n",
        "    model_predictions = model(a, attention_mask=b, labels=c)\n",
        "    model_predictions = model_predictions.logits.argmax(dim=1)\n",
        "    y_true.append(c.item())\n",
        "    y_pred.append(model_predictions.item())\n",
        "    # print(model_predictions, c)\n",
        "    metric.add_batch(predictions=model_predictions, references=c)\n",
        "\n",
        "confusion_matrix(y_true, y_pred)\n",
        "final_score = metric.compute(average='macro')\n",
        "print(final_score)\n",
        "\n",
        "decode_dict = {value:key for key, value in label_to_idx.items()}\n",
        "\n",
        "import seaborn as sn\n",
        "import matplotlib.pyplot as plt\n",
        "\n",
        "data = {'y_Actual':    [decode_dict[y] for y in y_true],\n",
        "        'y_Predicted': [decode_dict[y] for y in y_pred]\n",
        "        }\n",
        "\n",
        "df = pd.DataFrame(data, columns=['y_Actual','y_Predicted'])\n",
        "confusion_matrix = pd.crosstab(df['y_Actual'], df['y_Predicted'], rownames=['True label'], colnames=['Predicted label'])\n",
        "\n",
        "fig, ax = plt.subplots(figsize=(10,10))\n",
        "sn.heatmap(confusion_matrix, annot=True, cmap=\"coolwarm\", robust=True)\n",
        "plt.show()\n",
        "\n",
        "fig.savefig('heatmap.png', dpi=400)"
      ],
      "execution_count": 33,
      "outputs": [
        {
          "output_type": "stream",
          "text": [
            "{'f1': 0.7286446520329578}\n"
          ],
          "name": "stdout"
        },
        {
          "output_type": "display_data",
          "data": {
            "image/png": "[encoded data removed]",
            "text/plain": [
              "<Figure size 720x720 with 2 Axes>"
            ]
          },
          "metadata": {
            "tags": [],
            "needs_background": "light"
          }
        }
      ]
    },
    {
      "cell_type": "code",
      "metadata": {
        "id": "Xq5pInNxR0sw"
      },
      "source": [
        "# MODEL_PATH = os.getcwd() + \"/model/\"\n",
        "# print(MODEL_PATH)\n",
        "# model.save_pretrained(os.path.join(MODEL_PATH, \"distilbert.pt\"))\n",
        "# tokenizer.save_pretrained(os.getcwd() + \"/tokenizer\")"
      ],
      "execution_count": null,
      "outputs": []
    },
    {
      "cell_type": "code",
      "metadata": {
        "id": "N3VrErPa_xBU"
      },
      "source": [
        "# import shutil\n",
        "# shutil.make_archive('model', 'zip', 'model')"
      ],
      "execution_count": null,
      "outputs": []
    }
  ]
}